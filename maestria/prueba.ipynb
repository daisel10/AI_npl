{
 "cells": [
  {
   "cell_type": "code",
   "execution_count": 7,
   "metadata": {},
   "outputs": [
    {
     "ename": "ModuleNotFoundError",
     "evalue": "No module named 'BeautifulSoup'",
     "output_type": "error",
     "traceback": [
      "\u001b[1;31m---------------------------------------------------------------------------\u001b[0m",
      "\u001b[1;31mModuleNotFoundError\u001b[0m                       Traceback (most recent call last)",
      "Cell \u001b[1;32mIn[7], line 3\u001b[0m\n\u001b[0;32m      1\u001b[0m \u001b[39mimport\u001b[39;00m \u001b[39mnltk\u001b[39;00m \n\u001b[0;32m      2\u001b[0m \u001b[39mimport\u001b[39;00m \u001b[39murllib\u001b[39;00m\u001b[39m.\u001b[39;00m\u001b[39mrequest\u001b[39;00m\n\u001b[1;32m----> 3\u001b[0m \u001b[39mimport\u001b[39;00m \u001b[39mBeautifulSoup\u001b[39;00m\n\u001b[0;32m      4\u001b[0m nltk\u001b[39m.\u001b[39mdownload()\n",
      "\u001b[1;31mModuleNotFoundError\u001b[0m: No module named 'BeautifulSoup'"
     ]
    }
   ],
   "source": [
    "import nltk \n",
    "import urllib.request\n",
    "import BeautifulSoup\n",
    "nltk.download()"
   ]
  },
  {
   "cell_type": "code",
   "execution_count": 6,
   "metadata": {},
   "outputs": [
    {
     "name": "stdout",
     "output_type": "stream",
     "text": [
      "b'<!DOCTYPE html>\\n<html class=\"no-js\" lang=\"en\" dir=\"ltr\" prefix=\"content: http://purl.org/rss/1.0/modules/content/ dc: http://purl.org/dc/terms/ foaf: http://xmlns.com/foaf/0.1/ og: http://ogp.me/ns# rdfs: http://www.w3.org/2000/01/rdf-schema# sioc: http://rdfs.org/sioc/ns# sioct: http://rdfs.org/sioc/types# skos: http://www.w3.org/2004/02/skos/core# xsd: http://www.w3.org/2001/XMLSchema#\">\\n  <head>\\n    <meta http-equiv=\"X-UA-Compatible\" content=\"IE=Edge,chrome=1\" />\\n    <meta charset=\"utf-8\" />\\n<meta name=\"description\" content=\"NASA.gov brings you the latest news, images and videos from America&#039;s space agency, pioneering the future in space exploration, scientific discovery and aeronautics research.\" />\\n<link rel=\"canonical\" href=\"/\" />\\n<link rel=\"shortlink\" href=\"/\" />\\n<meta name=\"dcterms.title\" content=\"NASA\" />\\n<meta name=\"dcterms.identifier\" content=\"/\" />\\n<meta property=\"og:title\" content=\"National Aeronautics and Space Administration\" />\\n<meta property=\"og:description\" content=\"NASA.gov brings you the latest news, images and videos from America&#039;s space agency, pioneering the future in space exploration, scientific discovery and aeronautics research.\" />\\n<meta property=\"og:type\" content=\"website\" />\\n<meta property=\"og:image\" content=\"http://www.nasa.gov/sites/default/files/images/nasaLogo-570x450.png\" />\\n<meta property=\"og:url\" content=\"http://www.nasa.gov/index.html\" />\\n<meta property=\"twitter:title\" content=\"National Aeronautics and Space Administration\" />\\n<meta property=\"twitter:description\" content=\"Pioneering the future in space exploration, scientific discovery and aeronautics research.\" />\\n<meta name=\"generator\" content=\"Drupal 7 (http://drupal.org)\" />\\n<meta name=\"dcterms.type\" content=\"Text\" />\\n<meta name=\"dcterms.format\" content=\"text/html\" />\\n<meta property=\"og:site_name\" content=\"NASA\" />\\n<meta property=\"twitter:card\" content=\"summary_large_image\" />\\n<meta property=\"twitter:site\" content=\"@NASA\" />\\n<meta property=\"twitter:site:id\" content=\"11348282\" />\\n<meta property=\"twitter:url\" content=\"/index.html\" />\\n<meta property=\"twitter:image\" content=\"http://www.nasa.gov/sites/default/files/images/nasaLogo-570x450.png\" />\\n<link rel=\"shortcut icon\" href=\"/favicon.ico\" type=\"image/vnd.microsoft.icon\" />\\n<link rel=\"profile\" href=\"https://www.w3.org/1999/xhtml/vocab\" />\\n<meta property=\"fb:pages\" content=\"54971236771\" />\\n<script type=\"application/ld+json\">{\\n    \"@context\": \"http://schema.org\",\\n    \"@graph\": [\\n        {\\n            \"@type\": \"WebSite\",\\n            \"@id\": \"https://www.nasa.gov\",\\n            \"name\": \"NASA\",\\n            \"url\": \"https://www.nasa.gov\",\\n            \"sameAs\": [\\n                \"https://twitter.com/nasa\",\\n                \"https://www.facebook.com/nasa\",\\n                \"https://instagram.com/nasa\",\\n                \"https://plus.google.com/+NASA\"\\n            ],\\n            \"publisher\": {\\n                \"@type\": \"Organization\",\\n                \"@id\": \"https://www.nasa.gov\",\\n                \"name\": \"NASA\",\\n                \"sameAs\": [\\n                    \"https://twitter.com/nasa\",\\n                    \"https://www.facebook.com/nasa\",\\n                    \"https://instagram.com/nasa\",\\n                    \"https://plus.google.com/+NASA\"\\n                ],\\n                \"logo\": {\\n                    \"@type\": \"ImageObject\",\\n                    \"url\": \"https://www.nasa.gov/sites/all/themes/custom/nasatwo/images/nasa-logo.svg\",\\n                    \"width\": \"110\",\\n                    \"height\": \"92\"\\n                }\\n            }\\n        }\\n    ]\\n}</script>\\n<meta name=\"viewport\" content=\"width=device-width, initial-scale=1.0, maximum-scale=10.0\" />\\n    <title>NASA</title>\\n    <meta name=\"nasa/config/environment\" content=\"%7B%22modulePrefix%22%3A%22nasa%22%2C%22environment%22%3A%22development%22%2C%22baseURL%22%3A%22/%22%2C%22locationType%22%3A%22none%22%2C%22EmberENV%22%3A%7B%22FEATURES%22%3A%7B%7D%7D%2C%22APP%22%3A%7B%22LOG_ACTIVE_GENERATION%22%3Atrue%2C%22LOG_VIEW_LOOKUPS%22%3Atrue%7D%2C%22contentSecurityPolicyHeader%22%3A%22Content-Security-Policy-Report-Only%22%2C%22contentSecurityPolicy%22%3A%7B%22default-src%22%3A%22%27none%27%22%2C%22script-src%22%3A%22%27self%27%20%27unsafe-eval%27%22%2C%22font-src%22%3A%22%27self%27%22%2C%22connect-src%22%3A%22%27self%27%22%2C%22img-src%22%3A%22%27self%27%22%2C%22style-src%22%3A%22%27self%27%22%2C%22media-src%22%3A%22%27self%27%22%7D%2C%22exportApplicationGlobal%22%3Atrue%7D\" />\\n    <link rel=\"apple-touch-icon\" href=\"/sites/all/themes/custom/nasatwo/images/apple-touch-icon.png\">\\n    <link rel=\"apple-touch-icon\" sizes=\"76x76\" href=\"/sites/all/themes/custom/nasatwo/images/apple-touch-icon-76x76.png\">\\n    <link rel=\"apple-touch-icon\" sizes=\"120x120\" href=\"/sites/all/themes/custom/nasatwo/images/apple-touch-icon-120x120.png\">\\n    <link rel=\"apple-touch-icon\" sizes=\"152x152\" href=\"/sites/all/themes/custom/nasatwo/images/apple-touch-icon-152x152.png\">\\n    <style>\\n@import url(\"/sites/all/modules/contrib/date/date_api/date.css?\");\\n@import url(\"/sites/all/modules/contrib/date/date_popup/themes/datepicker.1.7.css?\");\\n@import url(\"/sites/all/modules/contrib/date/date_repeat_field/date_repeat_field.css?\");\\n@import url(\"/sites/all/modules/scald/modules/library/dnd/css/editor-global.css?\");\\n@import url(\"/sites/all/modules/custom/scald_before_after_image/scald_before_after_image.css?\");\\n@import url(\"/sites/all/modules/custom/scald_htmlsnippet/scald_htmlsnippet.css?\");\\n@import url(\"/sites/all/modules/custom/scald_iframe/scald_iframe.css?\");\\n@import url(\"/sites/all/modules/contrib/views/css/views.css?\");\\n</style>\\n<link type=\"text/css\" rel=\"stylesheet\" href=\"/sites/all/themes/custom/nasatwo/css/vendor.css?\" media=\"all\" />\\n<link type=\"text/css\" rel=\"stylesheet\" href=\"/sites/all/themes/custom/nasatwo/css/nasa.css?\" media=\"all\" />\\n    <script language=\"javascript\" id=\"_fed_an_ua_tag\" src=\"https://dap.digitalgov.gov/Universal-Federated-Analytics-Min.js?agency=NASA&yt=true&dclink=true\"></script>\\n    <script defer=\"defer\" src=\"/sites/default/files/google_tag/sitewide_gtm/google_tag.script.js?\"></script>\\n<script>window.Drupal = {behaviors: {}};</script>\\n<script src=\"/sites/all/themes/custom/nasatwo/js/vendor.js?\"></script>\\n<script src=\"/sites/all/themes/custom/nasatwo/js/nasa.js?\"></script>\\n  </head>\\n  <body class=\"html front not-logged-in page-indexhtml show-topics-menu\" class=\"Array\">\\n    <noscript aria-hidden=\"true\"><iframe src=\"https://www.googletagmanager.com/ns.html?id=GTM-NLJ258M\" height=\"0\" width=\"0\" style=\"display:none;visibility:hidden\"></iframe></noscript>\\n    <div class=\"l-page ember-init-hide\">\\n  <header class=\"l-header container-fluid\" role=\"banner\"></header>\\n  <div class=\"l-main\">\\n    <div class=\"l-content container-fluid\" id=\"main\" role=\"main\">\\n      <script>\\nwindow.landingPage = {\"id\":\"1\",\\n\"cardPageType\":\"0\",\\n\"title\": true ? \"NASA Home Page\" : \"Empty landing page\",\\n\"body\":\"\",\\n\"topics\":[],\\n\"missions\":[],\\n\"collections\":[],\\n\"otherTags\":[],\\n\"socialEmbedCode\":null,\\n\"addthisProfileID\":null,\\n\"allSocialMediaLink\":null,\\n\"submenu\":{\"shortName\":null,\\n\"subtopicLinks\":[]},\\n\"sidemenu\":{\"heading\":null,\\n\"leftsideMenuLinks\":[]},\\n\"cardpageLinks\":[],\\n\"topPattern\":  [\\'1x1\\', \\'2x1\\', \\'1x1\\', \\'1x1\\', \\'1x1\\', \\'2x1\\', \\'1x1\\', \\'1x1\\', \\'1x1\\', \\'1x1\\', \\'2x1\\', \\'2x1\\'],\\n\"govDeliveryId\":null};\\nwindow.forcedRoute = \"landingPage\";\\nwindow.cardFeed = [{\"type\":\"event\",\"title\":\"Ubernode Pinned Card #3 | Events Box \",\"position\":\"3\",\"links\":[{\"url\":\"https:\\\\/\\\\/www.nasa.gov\\\\/nasalive\\\\/\",\"title\":\"Thu., May 25, 10:10 a.m. EDT: ISS Expedition 69 in-flight event with flight engineers Steve Bowen, Woody Hoburg and Frank Rubio\",\"id\":\"10823-0\",\"target\":\"_blank\"},{\"url\":\"https:\\\\/\\\\/www.nasa.gov\\\\/nasalive\\\\/\",\"title\":\"Thurs., May 25, 11:15 p.m. EDT: Launch coverage of the TROPICS mission from M\\\\u0101hia, New Zealand\",\"id\":\"10823-1\",\"target\":\"_blank\"},{\"url\":\"https:\\\\/\\\\/www.nasa.gov\\\\/nasalive\\\\/\",\"title\":\"Tue., May 30, 12:30 p.m. EDT: ISS Expedition 69 in-flight educational event with flight engineers Frank Rubio and Steve Bowen\",\"id\":\"10823-2\",\"target\":\"_blank\"},{\"url\":\"https:\\\\/\\\\/www.nasa.gov\\\\/nasalive\\\\/\",\"title\":\"Wed., May 31, 10:30 a.m. EDT: Coverage of the unidentified anomalous phenomena (UAP) independent study team public meeting \",\"id\":\"10823-3\",\"target\":\"_blank\"},{\"url\":\"https:\\\\/\\\\/www.nasa.gov\\\\/nasalive\\\\/\",\"title\":\"Wed., May 31, 3 p.m. EDT: Unidentified anomalous phenomena (UAP) post-meeting media teleconference\",\"id\":\"10823-4\",\"target\":\"_blank\"}],\"launch\":{\"id\":\"f8076170726a01c69972eeba8480696a\",\"title\":\"Launches and Landings\",\"url\":\"\\\\/launchschedule\"},\"calendar\":{\"id\":\"a4590ef2759db3e41430d991d653b07e\",\"title\":\"Calendar\",\"url\":\"\\\\/calendar\"},\"date\":\"2019-03-14T15:14:00-04:00\",\"countdown\":0,\"id\":\"10823\",\"displayCustomTitle\":\"0\"},{\"type\":\"ubercard\",\"title\":\"AA&NHPI Heritage Month\",\"position\":\"5\",\"node\":\"486948\",\"altTitle\":null,\"visibleTag\":\"primary\",\"id\":\"24318\"},{\"type\":\"ubercard\",\"title\":\"Whistling Through the Wildflowers\",\"position\":\"8\",\"node\":\"487336\",\"altTitle\":null,\"visibleTag\":\"primary\",\"id\":\"24158\"},{\"type\":\"pattern\",\"pattern\":[\"2x2\",\"1x1\",\"1x1\",\"2x1\",\"1x1\",\"2x1\",\"1x1\",\"1x1\",\"1x1\",\"1x1\",\"1x1\"]},{\"type\":\"card_feed\",\"title\":\"Card Feed\",\"routes\":[\"1\"],\"unType\":[\"feature\",\"image\",\"press_release\",\"collection_asset\",\"mediacast\"],\"id\":\"35\"},];\\n</script>\\n    </div>\\n  </div>\\n  <footer class=\"l-footer container-fluid\" role=\"contentinfo\">\\n  </footer>\\n</div>\\n\\n      </body>\\n</html>\\n'\n"
     ]
    }
   ],
   "source": [
    "response = urllib.request.urlopen('https://www.nasa.gov/')\n",
    "html = response.read() \n",
    "soup = BeautifulSoup(html,\"html5lib\") \n",
    "text = soup.get_text(strip=True) \n",
    "print (text)"
   ]
  }
 ],
 "metadata": {
  "kernelspec": {
   "display_name": "Python 3",
   "language": "python",
   "name": "python3"
  },
  "language_info": {
   "codemirror_mode": {
    "name": "ipython",
    "version": 3
   },
   "file_extension": ".py",
   "mimetype": "text/x-python",
   "name": "python",
   "nbconvert_exporter": "python",
   "pygments_lexer": "ipython3",
   "version": "3.11.1"
  },
  "orig_nbformat": 4
 },
 "nbformat": 4,
 "nbformat_minor": 2
}
