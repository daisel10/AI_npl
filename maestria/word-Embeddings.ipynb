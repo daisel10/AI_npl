{
 "cells": [
  {
   "cell_type": "code",
   "execution_count": 1,
   "metadata": {},
   "outputs": [],
   "source": [
    "import numpy as np"
   ]
  },
  {
   "cell_type": "code",
   "execution_count": 18,
   "metadata": {},
   "outputs": [
    {
     "name": "stdout",
     "output_type": "stream",
     "text": [
      "5\n"
     ]
    }
   ],
   "source": [
    "ejemplos = [\"El gato salta\",\"El perro corre\"] \n",
    "token_index={}\n",
    "for ejemplo in ejemplos: \n",
    "    for palabra in ejemplo.split(): \n",
    "        if palabra not in token_index: \n",
    "            token_index[palabra] = len(token_index) + 1\n",
    "\n",
    "print(token_index)"
   ]
  },
  {
   "cell_type": "code",
   "execution_count": 30,
   "metadata": {},
   "outputs": [
    {
     "name": "stdout",
     "output_type": "stream",
     "text": [
      "1.0\n",
      "1.0\n",
      "1.0\n",
      "1.0\n",
      "1.0\n",
      "1.0\n"
     ]
    }
   ],
   "source": [
    "max_len = 10\n",
    "token_index_len= max(token_index.values()) +1\n",
    "\n",
    "shape =(len(ejemplos),max_len,token_index_len)\n",
    "\n",
    "results = np.zeros(shape)\n",
    "\n",
    "\n",
    "for i ,ejemplo in enumerate(ejemplos): \n",
    "    for j , palabra in list(enumerate(ejemplo.split()))[:max_len]:\n",
    "        index = token_index.get(palabra) \n",
    "        results[i,j,index] = 1\n",
    "        print(results[i,j,index])\n",
    "        \n"
   ]
  }
 ],
 "metadata": {
  "kernelspec": {
   "display_name": ".venv",
   "language": "python",
   "name": "python3"
  },
  "language_info": {
   "codemirror_mode": {
    "name": "ipython",
    "version": 3
   },
   "file_extension": ".py",
   "mimetype": "text/x-python",
   "name": "python",
   "nbconvert_exporter": "python",
   "pygments_lexer": "ipython3",
   "version": "3.11.1"
  },
  "orig_nbformat": 4
 },
 "nbformat": 4,
 "nbformat_minor": 2
}
